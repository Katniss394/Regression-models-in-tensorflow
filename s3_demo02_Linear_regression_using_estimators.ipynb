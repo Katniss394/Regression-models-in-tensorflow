{
 "cells": [
  {
   "cell_type": "markdown",
   "metadata": {},
   "source": [
    "## Import packages"
   ]
  },
  {
   "cell_type": "code",
   "execution_count": 1,
   "metadata": {},
   "outputs": [
    {
     "name": "stderr",
     "output_type": "stream",
     "text": [
      "/anaconda3/lib/python3.6/site-packages/h5py/__init__.py:36: FutureWarning: Conversion of the second argument of issubdtype from `float` to `np.floating` is deprecated. In future, it will be treated as `np.float64 == np.dtype(float).type`.\n",
      "  from ._conv import register_converters as _register_converters\n"
     ]
    }
   ],
   "source": [
    "import numpy as np\n",
    "import pandas as pd\n",
    "import matplotlib.pyplot as plt\n",
    "import tensorflow as tf\n",
    "%matplotlib inline\n",
    "from sklearn.datasets import load_boston\n",
    "from sklearn.model_selection import train_test_split\n",
    "from sklearn.preprocessing import StandardScaler"
   ]
  },
  {
   "cell_type": "markdown",
   "metadata": {},
   "source": [
    "## Load and preprocess the dataset\n",
    "* Seperate Data into Features and Labels and load them as a Pandas Dataframe\n",
    "* Split the dataset into train and test sets\n",
    "* Define the Preprocessing Method and Fit Training Data to it\n",
    "* Make X_train to be the Scaled Version of Data.This process scales all the values in all 6 columns and replaces them with the new values.\n",
    "* Apply the same normalization and scaling to test data.\n",
    "* Convert from Pandas Dataframe to Numpy Arrays\n"
   ]
  },
  {
   "cell_type": "code",
   "execution_count": 2,
   "metadata": {},
   "outputs": [],
   "source": [
    "boston = load_boston()"
   ]
  },
  {
   "cell_type": "code",
   "execution_count": 3,
   "metadata": {},
   "outputs": [],
   "source": [
    "features_df = pd.DataFrame(np.array(boston.data), columns=[boston.feature_names])"
   ]
  },
  {
   "cell_type": "code",
   "execution_count": 4,
   "metadata": {},
   "outputs": [
    {
     "data": {
      "text/html": [
       "<div>\n",
       "<style scoped>\n",
       "    .dataframe tbody tr th:only-of-type {\n",
       "        vertical-align: middle;\n",
       "    }\n",
       "\n",
       "    .dataframe tbody tr th {\n",
       "        vertical-align: top;\n",
       "    }\n",
       "\n",
       "    .dataframe thead tr th {\n",
       "        text-align: left;\n",
       "    }\n",
       "</style>\n",
       "<table border=\"1\" class=\"dataframe\">\n",
       "  <thead>\n",
       "    <tr>\n",
       "      <th></th>\n",
       "      <th>CRIM</th>\n",
       "      <th>ZN</th>\n",
       "      <th>INDUS</th>\n",
       "      <th>CHAS</th>\n",
       "      <th>NOX</th>\n",
       "      <th>RM</th>\n",
       "      <th>AGE</th>\n",
       "      <th>DIS</th>\n",
       "      <th>RAD</th>\n",
       "      <th>TAX</th>\n",
       "      <th>PTRATIO</th>\n",
       "      <th>B</th>\n",
       "      <th>LSTAT</th>\n",
       "    </tr>\n",
       "  </thead>\n",
       "  <tbody>\n",
       "    <tr>\n",
       "      <th>0</th>\n",
       "      <td>0.00632</td>\n",
       "      <td>18.0</td>\n",
       "      <td>2.31</td>\n",
       "      <td>0.0</td>\n",
       "      <td>0.538</td>\n",
       "      <td>6.575</td>\n",
       "      <td>65.2</td>\n",
       "      <td>4.0900</td>\n",
       "      <td>1.0</td>\n",
       "      <td>296.0</td>\n",
       "      <td>15.3</td>\n",
       "      <td>396.90</td>\n",
       "      <td>4.98</td>\n",
       "    </tr>\n",
       "    <tr>\n",
       "      <th>1</th>\n",
       "      <td>0.02731</td>\n",
       "      <td>0.0</td>\n",
       "      <td>7.07</td>\n",
       "      <td>0.0</td>\n",
       "      <td>0.469</td>\n",
       "      <td>6.421</td>\n",
       "      <td>78.9</td>\n",
       "      <td>4.9671</td>\n",
       "      <td>2.0</td>\n",
       "      <td>242.0</td>\n",
       "      <td>17.8</td>\n",
       "      <td>396.90</td>\n",
       "      <td>9.14</td>\n",
       "    </tr>\n",
       "    <tr>\n",
       "      <th>2</th>\n",
       "      <td>0.02729</td>\n",
       "      <td>0.0</td>\n",
       "      <td>7.07</td>\n",
       "      <td>0.0</td>\n",
       "      <td>0.469</td>\n",
       "      <td>7.185</td>\n",
       "      <td>61.1</td>\n",
       "      <td>4.9671</td>\n",
       "      <td>2.0</td>\n",
       "      <td>242.0</td>\n",
       "      <td>17.8</td>\n",
       "      <td>392.83</td>\n",
       "      <td>4.03</td>\n",
       "    </tr>\n",
       "    <tr>\n",
       "      <th>3</th>\n",
       "      <td>0.03237</td>\n",
       "      <td>0.0</td>\n",
       "      <td>2.18</td>\n",
       "      <td>0.0</td>\n",
       "      <td>0.458</td>\n",
       "      <td>6.998</td>\n",
       "      <td>45.8</td>\n",
       "      <td>6.0622</td>\n",
       "      <td>3.0</td>\n",
       "      <td>222.0</td>\n",
       "      <td>18.7</td>\n",
       "      <td>394.63</td>\n",
       "      <td>2.94</td>\n",
       "    </tr>\n",
       "    <tr>\n",
       "      <th>4</th>\n",
       "      <td>0.06905</td>\n",
       "      <td>0.0</td>\n",
       "      <td>2.18</td>\n",
       "      <td>0.0</td>\n",
       "      <td>0.458</td>\n",
       "      <td>7.147</td>\n",
       "      <td>54.2</td>\n",
       "      <td>6.0622</td>\n",
       "      <td>3.0</td>\n",
       "      <td>222.0</td>\n",
       "      <td>18.7</td>\n",
       "      <td>396.90</td>\n",
       "      <td>5.33</td>\n",
       "    </tr>\n",
       "  </tbody>\n",
       "</table>\n",
       "</div>"
      ],
      "text/plain": [
       "      CRIM    ZN INDUS CHAS    NOX     RM   AGE     DIS  RAD    TAX PTRATIO  \\\n",
       "0  0.00632  18.0  2.31  0.0  0.538  6.575  65.2  4.0900  1.0  296.0    15.3   \n",
       "1  0.02731   0.0  7.07  0.0  0.469  6.421  78.9  4.9671  2.0  242.0    17.8   \n",
       "2  0.02729   0.0  7.07  0.0  0.469  7.185  61.1  4.9671  2.0  242.0    17.8   \n",
       "3  0.03237   0.0  2.18  0.0  0.458  6.998  45.8  6.0622  3.0  222.0    18.7   \n",
       "4  0.06905   0.0  2.18  0.0  0.458  7.147  54.2  6.0622  3.0  222.0    18.7   \n",
       "\n",
       "        B LSTAT  \n",
       "0  396.90  4.98  \n",
       "1  396.90  9.14  \n",
       "2  392.83  4.03  \n",
       "3  394.63  2.94  \n",
       "4  396.90  5.33  "
      ]
     },
     "execution_count": 4,
     "metadata": {},
     "output_type": "execute_result"
    }
   ],
   "source": [
    "features_df.head()"
   ]
  },
  {
   "cell_type": "code",
   "execution_count": 5,
   "metadata": {},
   "outputs": [],
   "source": [
    "labels_df = pd.DataFrame(np.array(boston.target), columns=['labels'])"
   ]
  },
  {
   "cell_type": "code",
   "execution_count": 6,
   "metadata": {},
   "outputs": [
    {
     "data": {
      "text/html": [
       "<div>\n",
       "<style scoped>\n",
       "    .dataframe tbody tr th:only-of-type {\n",
       "        vertical-align: middle;\n",
       "    }\n",
       "\n",
       "    .dataframe tbody tr th {\n",
       "        vertical-align: top;\n",
       "    }\n",
       "\n",
       "    .dataframe thead th {\n",
       "        text-align: right;\n",
       "    }\n",
       "</style>\n",
       "<table border=\"1\" class=\"dataframe\">\n",
       "  <thead>\n",
       "    <tr style=\"text-align: right;\">\n",
       "      <th></th>\n",
       "      <th>labels</th>\n",
       "    </tr>\n",
       "  </thead>\n",
       "  <tbody>\n",
       "    <tr>\n",
       "      <th>0</th>\n",
       "      <td>24.0</td>\n",
       "    </tr>\n",
       "    <tr>\n",
       "      <th>1</th>\n",
       "      <td>21.6</td>\n",
       "    </tr>\n",
       "    <tr>\n",
       "      <th>2</th>\n",
       "      <td>34.7</td>\n",
       "    </tr>\n",
       "    <tr>\n",
       "      <th>3</th>\n",
       "      <td>33.4</td>\n",
       "    </tr>\n",
       "    <tr>\n",
       "      <th>4</th>\n",
       "      <td>36.2</td>\n",
       "    </tr>\n",
       "  </tbody>\n",
       "</table>\n",
       "</div>"
      ],
      "text/plain": [
       "   labels\n",
       "0    24.0\n",
       "1    21.6\n",
       "2    34.7\n",
       "3    33.4\n",
       "4    36.2"
      ]
     },
     "execution_count": 6,
     "metadata": {},
     "output_type": "execute_result"
    }
   ],
   "source": [
    "labels_df.head()"
   ]
  },
  {
   "cell_type": "code",
   "execution_count": 7,
   "metadata": {},
   "outputs": [],
   "source": [
    "X_train, X_test, y_train, y_test = train_test_split(features_df, labels_df, test_size=0.2, random_state=101)"
   ]
  },
  {
   "cell_type": "code",
   "execution_count": 8,
   "metadata": {},
   "outputs": [],
   "source": [
    "scaler = StandardScaler()"
   ]
  },
  {
   "cell_type": "code",
   "execution_count": 9,
   "metadata": {},
   "outputs": [
    {
     "data": {
      "text/plain": [
       "StandardScaler(copy=True, with_mean=True, with_std=True)"
      ]
     },
     "execution_count": 9,
     "metadata": {},
     "output_type": "execute_result"
    }
   ],
   "source": [
    "scaler.fit(X_train)"
   ]
  },
  {
   "cell_type": "code",
   "execution_count": 10,
   "metadata": {},
   "outputs": [],
   "source": [
    "X_train = pd.DataFrame(data=scaler.transform(X_train), columns=X_train.columns, index=X_train.index)"
   ]
  },
  {
   "cell_type": "code",
   "execution_count": 11,
   "metadata": {},
   "outputs": [],
   "source": [
    "X_train = np.array(X_train)"
   ]
  },
  {
   "cell_type": "code",
   "execution_count": 12,
   "metadata": {},
   "outputs": [],
   "source": [
    "y_train = np.array(y_train)"
   ]
  },
  {
   "cell_type": "code",
   "execution_count": 13,
   "metadata": {},
   "outputs": [
    {
     "data": {
      "text/plain": [
       "(numpy.ndarray, numpy.ndarray)"
      ]
     },
     "execution_count": 13,
     "metadata": {},
     "output_type": "execute_result"
    }
   ],
   "source": [
    "type(X_train), type(y_train)"
   ]
  },
  {
   "cell_type": "code",
   "execution_count": 14,
   "metadata": {},
   "outputs": [],
   "source": [
    "scal = StandardScaler()"
   ]
  },
  {
   "cell_type": "code",
   "execution_count": 15,
   "metadata": {},
   "outputs": [
    {
     "data": {
      "text/plain": [
       "StandardScaler(copy=True, with_mean=True, with_std=True)"
      ]
     },
     "execution_count": 15,
     "metadata": {},
     "output_type": "execute_result"
    }
   ],
   "source": [
    "scal.fit(X_test)"
   ]
  },
  {
   "cell_type": "code",
   "execution_count": 16,
   "metadata": {},
   "outputs": [],
   "source": [
    "X_test = pd.DataFrame(data=scal.transform(X_test), columns=X_test.columns, index=X_test.index)"
   ]
  },
  {
   "cell_type": "code",
   "execution_count": 17,
   "metadata": {},
   "outputs": [],
   "source": [
    "X_test = np.array(X_test)"
   ]
  },
  {
   "cell_type": "code",
   "execution_count": 18,
   "metadata": {},
   "outputs": [],
   "source": [
    "y_test = np.array(y_test)"
   ]
  },
  {
   "cell_type": "code",
   "execution_count": 19,
   "metadata": {},
   "outputs": [
    {
     "data": {
      "text/plain": [
       "(numpy.ndarray, numpy.ndarray)"
      ]
     },
     "execution_count": 19,
     "metadata": {},
     "output_type": "execute_result"
    }
   ],
   "source": [
    "type(X_test), type(y_test)"
   ]
  },
  {
   "cell_type": "code",
   "execution_count": 20,
   "metadata": {},
   "outputs": [
    {
     "data": {
      "text/plain": [
       "MultiIndex(levels=[['AGE', 'B', 'CHAS', 'CRIM', 'DIS', 'INDUS', 'LSTAT', 'NOX', 'PTRATIO', 'RAD', 'RM', 'TAX', 'ZN']],\n",
       "           labels=[[3, 12, 5, 2, 7, 10, 0, 4, 9, 11, 8, 1, 6]])"
      ]
     },
     "execution_count": 20,
     "metadata": {},
     "output_type": "execute_result"
    }
   ],
   "source": [
    "features_df.columns"
   ]
  },
  {
   "cell_type": "markdown",
   "metadata": {},
   "source": [
    "## Building a linear regression model using tensorflow\n",
    "* Make Feature Columns\n",
    "* Define input function\n",
    "* Define Linear Regressor Model with Adam as optimizer. Supported Optimizers: ('Adagrad', 'Adam', 'Ftrl', 'RMSProp', 'SGD')\n",
    "* Set up Estimator Test Inputs\n",
    "* Train the Linear Regressor Estimator"
   ]
  },
  {
   "cell_type": "code",
   "execution_count": 21,
   "metadata": {},
   "outputs": [],
   "source": [
    "feat_cols = [tf.feature_column.numeric_column('x', shape=np.array(X_train).shape[1:])]"
   ]
  },
  {
   "cell_type": "code",
   "execution_count": 22,
   "metadata": {},
   "outputs": [],
   "source": [
    "input_func = tf.estimator.inputs.numpy_input_fn({'x':X_train}, y_train, batch_size=1, num_epochs=2000, shuffle=True)"
   ]
  },
  {
   "cell_type": "code",
   "execution_count": 23,
   "metadata": {},
   "outputs": [
    {
     "name": "stdout",
     "output_type": "stream",
     "text": [
      "INFO:tensorflow:Using default config.\n",
      "WARNING:tensorflow:Using temporary folder as model directory: /var/folders/4x/nch36pvx5n7bgzg2stsyy98r0000gn/T/tmpwsnyaq2e\n",
      "INFO:tensorflow:Using config: {'_model_dir': '/var/folders/4x/nch36pvx5n7bgzg2stsyy98r0000gn/T/tmpwsnyaq2e', '_tf_random_seed': None, '_save_summary_steps': 100, '_save_checkpoints_steps': None, '_save_checkpoints_secs': 600, '_session_config': None, '_keep_checkpoint_max': 5, '_keep_checkpoint_every_n_hours': 10000, '_log_step_count_steps': 100, '_train_distribute': None, '_service': None, '_cluster_spec': <tensorflow.python.training.server_lib.ClusterSpec object at 0x1a24017b70>, '_task_type': 'worker', '_task_id': 0, '_global_id_in_cluster': 0, '_master': '', '_evaluation_master': '', '_is_chief': True, '_num_ps_replicas': 0, '_num_worker_replicas': 1}\n"
     ]
    }
   ],
   "source": [
    "linear_model = tf.estimator.LinearRegressor(feature_columns=feat_cols, optimizer='Adam')"
   ]
  },
  {
   "cell_type": "code",
   "execution_count": 24,
   "metadata": {},
   "outputs": [],
   "source": [
    "train_input_func = tf.estimator.inputs.numpy_input_fn(X_train, y_train, batch_size=1, num_epochs=1000, shuffle=False)"
   ]
  },
  {
   "cell_type": "code",
   "execution_count": 25,
   "metadata": {},
   "outputs": [],
   "source": [
    "eval_input_func = tf.estimator.inputs.numpy_input_fn({'x': X_test}, y_test, batch_size=1, num_epochs=1, shuffle=False)"
   ]
  },
  {
   "cell_type": "code",
   "execution_count": 26,
   "metadata": {},
   "outputs": [
    {
     "name": "stdout",
     "output_type": "stream",
     "text": [
      "INFO:tensorflow:Calling model_fn.\n",
      "INFO:tensorflow:Done calling model_fn.\n",
      "INFO:tensorflow:Create CheckpointSaverHook.\n",
      "INFO:tensorflow:Graph was finalized.\n",
      "INFO:tensorflow:Running local_init_op.\n",
      "INFO:tensorflow:Done running local_init_op.\n",
      "INFO:tensorflow:Saving checkpoints for 1 into /var/folders/4x/nch36pvx5n7bgzg2stsyy98r0000gn/T/tmpwsnyaq2e/model.ckpt.\n",
      "INFO:tensorflow:loss = 171.61002, step = 1\n",
      "INFO:tensorflow:global_step/sec: 655.966\n",
      "INFO:tensorflow:loss = 0.90433246, step = 101 (0.154 sec)\n",
      "INFO:tensorflow:global_step/sec: 610.949\n",
      "INFO:tensorflow:loss = 86.585304, step = 201 (0.164 sec)\n",
      "INFO:tensorflow:global_step/sec: 774.353\n",
      "INFO:tensorflow:loss = 2.5316985, step = 301 (0.128 sec)\n",
      "INFO:tensorflow:global_step/sec: 785.41\n",
      "INFO:tensorflow:loss = 0.27511215, step = 401 (0.128 sec)\n",
      "INFO:tensorflow:global_step/sec: 562.856\n",
      "INFO:tensorflow:loss = 1.0511874, step = 501 (0.181 sec)\n",
      "INFO:tensorflow:global_step/sec: 406.787\n",
      "INFO:tensorflow:loss = 6.975394, step = 601 (0.241 sec)\n",
      "INFO:tensorflow:global_step/sec: 723.243\n",
      "INFO:tensorflow:loss = 0.07579693, step = 701 (0.140 sec)\n",
      "INFO:tensorflow:global_step/sec: 777.926\n",
      "INFO:tensorflow:loss = 3.3558912, step = 801 (0.127 sec)\n",
      "INFO:tensorflow:global_step/sec: 722.252\n",
      "INFO:tensorflow:loss = 4.5617533, step = 901 (0.140 sec)\n",
      "INFO:tensorflow:global_step/sec: 892.139\n",
      "INFO:tensorflow:loss = 11.863134, step = 1001 (0.112 sec)\n",
      "INFO:tensorflow:global_step/sec: 833.18\n",
      "INFO:tensorflow:loss = 11.947202, step = 1101 (0.120 sec)\n",
      "INFO:tensorflow:global_step/sec: 786.635\n",
      "INFO:tensorflow:loss = 32.884697, step = 1201 (0.127 sec)\n",
      "INFO:tensorflow:global_step/sec: 716.584\n",
      "INFO:tensorflow:loss = 3.3003643, step = 1301 (0.139 sec)\n",
      "INFO:tensorflow:global_step/sec: 763.12\n",
      "INFO:tensorflow:loss = 24.684298, step = 1401 (0.131 sec)\n",
      "INFO:tensorflow:global_step/sec: 805.25\n",
      "INFO:tensorflow:loss = 2.8593843, step = 1501 (0.124 sec)\n",
      "INFO:tensorflow:global_step/sec: 797.316\n",
      "INFO:tensorflow:loss = 20.193956, step = 1601 (0.125 sec)\n",
      "INFO:tensorflow:global_step/sec: 695.052\n",
      "INFO:tensorflow:loss = 10.958938, step = 1701 (0.144 sec)\n",
      "INFO:tensorflow:global_step/sec: 740.219\n",
      "INFO:tensorflow:loss = 0.67924535, step = 1801 (0.135 sec)\n",
      "INFO:tensorflow:global_step/sec: 794.983\n",
      "INFO:tensorflow:loss = 5.0402255, step = 1901 (0.126 sec)\n",
      "INFO:tensorflow:Saving checkpoints for 2000 into /var/folders/4x/nch36pvx5n7bgzg2stsyy98r0000gn/T/tmpwsnyaq2e/model.ckpt.\n",
      "INFO:tensorflow:Loss for final step: 72.04206.\n"
     ]
    },
    {
     "data": {
      "text/plain": [
       "<tensorflow.python.estimator.canned.linear.LinearRegressor at 0x1a24017710>"
      ]
     },
     "execution_count": 26,
     "metadata": {},
     "output_type": "execute_result"
    }
   ],
   "source": [
    "linear_model.train(input_fn=input_func, steps=2000)"
   ]
  },
  {
   "cell_type": "markdown",
   "metadata": {},
   "source": [
    "## Evaluate the model\n",
    "* Test the Model\n",
    "* Get the predicted values\n",
    "* Plot the results"
   ]
  },
  {
   "cell_type": "code",
   "execution_count": 27,
   "metadata": {},
   "outputs": [
    {
     "name": "stdout",
     "output_type": "stream",
     "text": [
      "INFO:tensorflow:Calling model_fn.\n",
      "INFO:tensorflow:Done calling model_fn.\n",
      "INFO:tensorflow:Starting evaluation at 2018-06-20-06:41:46\n",
      "INFO:tensorflow:Graph was finalized.\n",
      "INFO:tensorflow:Restoring parameters from /var/folders/4x/nch36pvx5n7bgzg2stsyy98r0000gn/T/tmpwsnyaq2e/model.ckpt-2000\n",
      "INFO:tensorflow:Running local_init_op.\n",
      "INFO:tensorflow:Done running local_init_op.\n",
      "INFO:tensorflow:Evaluation [10/100]\n",
      "INFO:tensorflow:Evaluation [20/100]\n",
      "INFO:tensorflow:Evaluation [30/100]\n",
      "INFO:tensorflow:Evaluation [40/100]\n",
      "INFO:tensorflow:Evaluation [50/100]\n",
      "INFO:tensorflow:Evaluation [60/100]\n",
      "INFO:tensorflow:Evaluation [70/100]\n",
      "INFO:tensorflow:Evaluation [80/100]\n",
      "INFO:tensorflow:Evaluation [90/100]\n",
      "INFO:tensorflow:Evaluation [100/100]\n",
      "INFO:tensorflow:Finished evaluation at 2018-06-20-06:41:47\n",
      "INFO:tensorflow:Saving dict for global step 2000: average_loss = 51.105473, global_step = 2000, loss = 51.105473\n"
     ]
    }
   ],
   "source": [
    "test_metrics = linear_model.evaluate(input_fn=eval_input_func, steps=100)"
   ]
  },
  {
   "cell_type": "code",
   "execution_count": 28,
   "metadata": {},
   "outputs": [
    {
     "name": "stdout",
     "output_type": "stream",
     "text": [
      "INFO:tensorflow:Calling model_fn.\n",
      "INFO:tensorflow:Done calling model_fn.\n",
      "INFO:tensorflow:Graph was finalized.\n",
      "INFO:tensorflow:Restoring parameters from /var/folders/4x/nch36pvx5n7bgzg2stsyy98r0000gn/T/tmpwsnyaq2e/model.ckpt-2000\n",
      "INFO:tensorflow:Running local_init_op.\n",
      "INFO:tensorflow:Done running local_init_op.\n"
     ]
    },
    {
     "data": {
      "text/plain": [
       "[{'predictions': array([34.44175], dtype=float32)},\n",
       " {'predictions': array([25.749916], dtype=float32)},\n",
       " {'predictions': array([18.918428], dtype=float32)},\n",
       " {'predictions': array([18.711954], dtype=float32)},\n",
       " {'predictions': array([25.049166], dtype=float32)},\n",
       " {'predictions': array([29.374733], dtype=float32)},\n",
       " {'predictions': array([39.4187], dtype=float32)},\n",
       " {'predictions': array([9.717651], dtype=float32)},\n",
       " {'predictions': array([33.98502], dtype=float32)},\n",
       " {'predictions': array([14.255391], dtype=float32)},\n",
       " {'predictions': array([22.94392], dtype=float32)},\n",
       " {'predictions': array([16.012627], dtype=float32)},\n",
       " {'predictions': array([14.417982], dtype=float32)},\n",
       " {'predictions': array([10.358976], dtype=float32)},\n",
       " {'predictions': array([24.784624], dtype=float32)},\n",
       " {'predictions': array([21.733578], dtype=float32)},\n",
       " {'predictions': array([11.357845], dtype=float32)},\n",
       " {'predictions': array([27.177418], dtype=float32)},\n",
       " {'predictions': array([26.492807], dtype=float32)},\n",
       " {'predictions': array([22.919914], dtype=float32)},\n",
       " {'predictions': array([15.390966], dtype=float32)},\n",
       " {'predictions': array([17.843996], dtype=float32)},\n",
       " {'predictions': array([22.74038], dtype=float32)},\n",
       " {'predictions': array([19.655994], dtype=float32)},\n",
       " {'predictions': array([28.288895], dtype=float32)},\n",
       " {'predictions': array([20.457977], dtype=float32)},\n",
       " {'predictions': array([27.458836], dtype=float32)},\n",
       " {'predictions': array([21.140568], dtype=float32)},\n",
       " {'predictions': array([24.333418], dtype=float32)},\n",
       " {'predictions': array([28.203442], dtype=float32)},\n",
       " {'predictions': array([15.665235], dtype=float32)},\n",
       " {'predictions': array([17.773153], dtype=float32)},\n",
       " {'predictions': array([30.78463], dtype=float32)},\n",
       " {'predictions': array([35.166527], dtype=float32)},\n",
       " {'predictions': array([30.902727], dtype=float32)},\n",
       " {'predictions': array([19.638763], dtype=float32)},\n",
       " {'predictions': array([17.372204], dtype=float32)},\n",
       " {'predictions': array([18.7998], dtype=float32)},\n",
       " {'predictions': array([8.612602], dtype=float32)},\n",
       " {'predictions': array([30.25202], dtype=float32)},\n",
       " {'predictions': array([22.61229], dtype=float32)},\n",
       " {'predictions': array([9.901858], dtype=float32)},\n",
       " {'predictions': array([32.63989], dtype=float32)},\n",
       " {'predictions': array([15.938991], dtype=float32)},\n",
       " {'predictions': array([16.531212], dtype=float32)},\n",
       " {'predictions': array([25.416248], dtype=float32)},\n",
       " {'predictions': array([29.389784], dtype=float32)},\n",
       " {'predictions': array([18.678259], dtype=float32)},\n",
       " {'predictions': array([24.174683], dtype=float32)},\n",
       " {'predictions': array([20.308111], dtype=float32)},\n",
       " {'predictions': array([31.263641], dtype=float32)},\n",
       " {'predictions': array([36.435867], dtype=float32)},\n",
       " {'predictions': array([23.189949], dtype=float32)},\n",
       " {'predictions': array([22.791811], dtype=float32)},\n",
       " {'predictions': array([28.836407], dtype=float32)},\n",
       " {'predictions': array([4.1388607], dtype=float32)},\n",
       " {'predictions': array([19.657536], dtype=float32)},\n",
       " {'predictions': array([17.494555], dtype=float32)},\n",
       " {'predictions': array([18.467861], dtype=float32)},\n",
       " {'predictions': array([19.047024], dtype=float32)},\n",
       " {'predictions': array([23.226124], dtype=float32)},\n",
       " {'predictions': array([6.7067146], dtype=float32)},\n",
       " {'predictions': array([13.78468], dtype=float32)},\n",
       " {'predictions': array([13.821586], dtype=float32)},\n",
       " {'predictions': array([13.276545], dtype=float32)},\n",
       " {'predictions': array([24.419367], dtype=float32)},\n",
       " {'predictions': array([22.223883], dtype=float32)},\n",
       " {'predictions': array([15.343906], dtype=float32)},\n",
       " {'predictions': array([21.713406], dtype=float32)},\n",
       " {'predictions': array([18.11774], dtype=float32)},\n",
       " {'predictions': array([23.105244], dtype=float32)},\n",
       " {'predictions': array([19.100557], dtype=float32)},\n",
       " {'predictions': array([23.158527], dtype=float32)},\n",
       " {'predictions': array([22.108763], dtype=float32)},\n",
       " {'predictions': array([24.553373], dtype=float32)},\n",
       " {'predictions': array([20.977726], dtype=float32)},\n",
       " {'predictions': array([37.41478], dtype=float32)},\n",
       " {'predictions': array([8.678457], dtype=float32)},\n",
       " {'predictions': array([28.252796], dtype=float32)},\n",
       " {'predictions': array([20.89257], dtype=float32)},\n",
       " {'predictions': array([16.183422], dtype=float32)},\n",
       " {'predictions': array([20.900183], dtype=float32)},\n",
       " {'predictions': array([27.753065], dtype=float32)},\n",
       " {'predictions': array([20.887463], dtype=float32)},\n",
       " {'predictions': array([11.085599], dtype=float32)},\n",
       " {'predictions': array([18.239346], dtype=float32)},\n",
       " {'predictions': array([23.419682], dtype=float32)},\n",
       " {'predictions': array([28.589714], dtype=float32)},\n",
       " {'predictions': array([20.100712], dtype=float32)},\n",
       " {'predictions': array([21.392714], dtype=float32)},\n",
       " {'predictions': array([15.5644455], dtype=float32)},\n",
       " {'predictions': array([16.213749], dtype=float32)},\n",
       " {'predictions': array([23.928974], dtype=float32)},\n",
       " {'predictions': array([34.43677], dtype=float32)},\n",
       " {'predictions': array([13.493064], dtype=float32)},\n",
       " {'predictions': array([34.220394], dtype=float32)},\n",
       " {'predictions': array([12.061939], dtype=float32)},\n",
       " {'predictions': array([31.232788], dtype=float32)},\n",
       " {'predictions': array([19.544304], dtype=float32)},\n",
       " {'predictions': array([16.702173], dtype=float32)},\n",
       " {'predictions': array([32.063103], dtype=float32)},\n",
       " {'predictions': array([21.516014], dtype=float32)}]"
      ]
     },
     "execution_count": 28,
     "metadata": {},
     "output_type": "execute_result"
    }
   ],
   "source": [
    "list(linear_model.predict(input_fn=eval_input_func))"
   ]
  },
  {
   "cell_type": "code",
   "execution_count": 29,
   "metadata": {},
   "outputs": [],
   "source": [
    "predictions = linear_model.predict(input_fn=eval_input_func)"
   ]
  },
  {
   "cell_type": "code",
   "execution_count": 30,
   "metadata": {},
   "outputs": [
    {
     "name": "stdout",
     "output_type": "stream",
     "text": [
      "INFO:tensorflow:Calling model_fn.\n",
      "INFO:tensorflow:Done calling model_fn.\n",
      "INFO:tensorflow:Graph was finalized.\n",
      "INFO:tensorflow:Restoring parameters from /var/folders/4x/nch36pvx5n7bgzg2stsyy98r0000gn/T/tmpwsnyaq2e/model.ckpt-2000\n",
      "INFO:tensorflow:Running local_init_op.\n",
      "INFO:tensorflow:Done running local_init_op.\n"
     ]
    }
   ],
   "source": [
    "pred = list(predictions)"
   ]
  },
  {
   "cell_type": "code",
   "execution_count": 31,
   "metadata": {},
   "outputs": [],
   "source": [
    "predicted_vals = []"
   ]
  },
  {
   "cell_type": "code",
   "execution_count": 32,
   "metadata": {},
   "outputs": [
    {
     "name": "stdout",
     "output_type": "stream",
     "text": [
      "INFO:tensorflow:Calling model_fn.\n",
      "INFO:tensorflow:Done calling model_fn.\n",
      "INFO:tensorflow:Graph was finalized.\n",
      "INFO:tensorflow:Restoring parameters from /var/folders/4x/nch36pvx5n7bgzg2stsyy98r0000gn/T/tmpwsnyaq2e/model.ckpt-2000\n",
      "INFO:tensorflow:Running local_init_op.\n",
      "INFO:tensorflow:Done running local_init_op.\n"
     ]
    }
   ],
   "source": [
    "for pred in linear_model.predict(input_fn=eval_input_func):\n",
    "    predicted_vals.append(pred['predictions'])"
   ]
  },
  {
   "cell_type": "code",
   "execution_count": 33,
   "metadata": {},
   "outputs": [
    {
     "data": {
      "image/png": "[encoded data removed]",
      "text/plain": [
       "<matplotlib.figure.Figure at 0x1a24e7fcc0>"
      ]
     },
     "metadata": {},
     "output_type": "display_data"
    }
   ],
   "source": [
    "fig, ax = plt.subplots()\n",
    "ax.scatter(y_test, predicted_vals)\n",
    "ax.plot([y_test.min(), y_test.max()], [y_test.min(), y_test.max()], 'k--', lw=3)\n",
    "ax.set_xlabel('Measured')\n",
    "ax.set_ylabel('Predicted')\n",
    "plt.show()"
   ]
  },
  {
   "cell_type": "code",
   "execution_count": null,
   "metadata": {},
   "outputs": [],
   "source": []
  }
 ],
 "metadata": {
  "kernelspec": {
   "display_name": "Python 3",
   "language": "python",
   "name": "python3"
  },
  "language_info": {
   "codemirror_mode": {
    "name": "ipython",
    "version": 3
   },
   "file_extension": ".py",
   "mimetype": "text/x-python",
   "name": "python",
   "nbconvert_exporter": "python",
   "pygments_lexer": "ipython3",
   "version": "3.6.4"
  }
 },
 "nbformat": 4,
 "nbformat_minor": 2
}
