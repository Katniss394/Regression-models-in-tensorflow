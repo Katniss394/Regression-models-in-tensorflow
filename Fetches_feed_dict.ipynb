{
 "cells": [
  {
   "cell_type": "code",
   "execution_count": 1,
   "metadata": {},
   "outputs": [
    {
     "name": "stderr",
     "output_type": "stream",
     "text": [
      "/anaconda3/lib/python3.6/site-packages/h5py/__init__.py:36: FutureWarning: Conversion of the second argument of issubdtype from `float` to `np.floating` is deprecated. In future, it will be treated as `np.float64 == np.dtype(float).type`.\n",
      "  from ._conv import register_converters as _register_converters\n"
     ]
    }
   ],
   "source": [
    "import tensorflow as tf"
   ]
  },
  {
   "cell_type": "code",
   "execution_count": 2,
   "metadata": {},
   "outputs": [],
   "source": [
    "# y = mx + c\n",
    "m = tf.constant([10, 100], name='constant_m')"
   ]
  },
  {
   "cell_type": "markdown",
   "metadata": {},
   "source": [
    " Note that these placeholders can hold tensors of any shape"
   ]
  },
  {
   "cell_type": "code",
   "execution_count": 3,
   "metadata": {},
   "outputs": [],
   "source": [
    "x = tf.placeholder(tf.int32, name='x')"
   ]
  },
  {
   "cell_type": "code",
   "execution_count": 4,
   "metadata": {},
   "outputs": [],
   "source": [
    "c = tf.placeholder(tf.int32, name='c')"
   ]
  },
  {
   "cell_type": "code",
   "execution_count": 5,
   "metadata": {},
   "outputs": [],
   "source": [
    "mx = tf.multiply(M, x, name=\"mx\")"
   ]
  },
  {
   "cell_type": "code",
   "execution_count": 6,
   "metadata": {},
   "outputs": [],
   "source": [
    "y = tf.add(Mx, c, name=\"y\")"
   ]
  },
  {
   "cell_type": "code",
   "execution_count": 7,
   "metadata": {},
   "outputs": [],
   "source": [
    "# y_ = x - c\n",
    "y_ = tf.subtract(x, c, name=\"y_\")"
   ]
  },
  {
   "cell_type": "code",
   "execution_count": 12,
   "metadata": {},
   "outputs": [
    {
     "name": "stdout",
     "output_type": "stream",
     "text": [
      "Intermediate result: Mx =  [  40 4400]\n",
      "Final result: Mx + c =  [  57 5009]\n",
      "Intermediate specified: Mx + c =  [ 205 2007]\n",
      "Two results: [Mx + c, x - c] =  [array([  53, 5009], dtype=int32), array([ 2, 41], dtype=int32)]\n"
     ]
    }
   ],
   "source": [
    "with tf.Session() as sess:\n",
    "    print (\"Intermediate result: Mx = \", sess.run(mx, feed_dict={x: [4, 44]}))\n",
    "\n",
    "    print (\"Final result: mx + c = \", sess.run(y, feed_dict={x: [5, 50], c: [7, 9]}))\n",
    "\n",
    "    print (\"Intermediate specified: mx + c = \", \\\n",
    "        sess.run(y, feed_dict={mx: [200, 2000], c: [5, 7]}))\n",
    "\n",
    "    print (\"Two results: [mx + c, x - c] = \", \\\n",
    "        sess.run(fetches=[y, y_], feed_dict={x: [5, 50], c: [3, 9]}))"
   ]
  },
  {
   "cell_type": "code",
   "execution_count": null,
   "metadata": {},
   "outputs": [],
   "source": []
  }
 ],
 "metadata": {
  "kernelspec": {
   "display_name": "Python 3",
   "language": "python",
   "name": "python3"
  },
  "language_info": {
   "codemirror_mode": {
    "name": "ipython",
    "version": 3
   },
   "file_extension": ".py",
   "mimetype": "text/x-python",
   "name": "python",
   "nbconvert_exporter": "python",
   "pygments_lexer": "ipython3",
   "version": "3.6.4"
  }
 },
 "nbformat": 4,
 "nbformat_minor": 2
}
